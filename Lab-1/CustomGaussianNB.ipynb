{
 "cells": [
  {
   "cell_type": "code",
   "execution_count": 1,
   "id": "087ca348-3f46-4333-8a26-d80781125b2c",
   "metadata": {},
   "outputs": [
    {
     "name": "stdout",
     "output_type": "stream",
     "text": [
      "Model Doğruluk Oranı: 0.8462\n",
      "\n",
      "Confusion Matrix:\n",
      " [[13  6]\n",
      " [ 0 20]]\n",
      "\n",
      "Classification Report:\n",
      "               precision    recall  f1-score   support\n",
      "\n",
      "           0       1.00      0.68      0.81        19\n",
      "           1       0.77      1.00      0.87        20\n",
      "\n",
      "    accuracy                           0.85        39\n",
      "   macro avg       0.88      0.84      0.84        39\n",
      "weighted avg       0.88      0.85      0.84        39\n",
      "\n"
     ]
    },
    {
     "name": "stderr",
     "output_type": "stream",
     "text": [
      "C:\\Users\\gorke\\AppData\\Local\\Temp\\ipykernel_25124\\2608238651.py:34: RuntimeWarning: divide by zero encountered in log\n",
      "  sınıf_olasilik += np.log(self._gaussian_olasılık(x[i],\n"
     ]
    }
   ],
   "source": [
    "import numpy as np\n",
    "import pandas as pd\n",
    "\n",
    "class MyGaussianNB:\n",
    "    def __init__(self):\n",
    "        self.sınıf_olasılıkları = {}  # P(y) sınıf öncelik olasılıkları\n",
    "        self.ortalama = {}  # Her sınıf için ortalamalar\n",
    "        self.standart_sapma = {}  # Her sınıf için standart sapmalar\n",
    "        \n",
    "    def fit(self, X, y):\n",
    "        \"\"\" Modeli eğit: Her sınıf için ortalama, std ve olasılıkları hesapla. \"\"\"\n",
    "        sınıflar = np.unique(y)  # Benzersiz sınıflar (0 ve 1)\n",
    "        for sınıf in sınıflar:\n",
    "            X_sınıf = X[y == sınıf]  # Belirli sınıfa ait örnekleri al\n",
    "            self.ortalama[sınıf] = X_sınıf.mean(axis=0)  # Özelliklerin ortalaması\n",
    "            self.standart_sapma[sınıf] = X_sınıf.std(axis=0)  # Özelliklerin std sapması\n",
    "            self.sınıf_olasılıkları[sınıf] = len(X_sınıf) / len(y)  # P(y) hesapla\n",
    "\n",
    "    def _gaussian_olasılık(self, x, mean, std):\n",
    "        \"\"\" Gauss dağılım fonksiyonu kullanarak olasılık hesapla. \"\"\"\n",
    "        if std == 0:\n",
    "            std = 1e-6  # Bölme hatasını önlemek için küçük bir değer ekle\n",
    "        exponent = np.exp(-((x - mean) ** 2 / (2 * (std ** 2))))\n",
    "        return (1 / (np.sqrt(2 * np.pi) * std)) * exponent\n",
    "\n",
    "    def predict(self, X):\n",
    "        \"\"\" Model ile tahmin yap: En yüksek olasılığa sahip sınıfı ata. \"\"\"\n",
    "        tahminler = []\n",
    "        for x in X:\n",
    "            olasılıklar = {}\n",
    "            for sınıf in self.sınıf_olasılıkları:\n",
    "                sınıf_olasilik = np.log(self.sınıf_olasılıkları[sınıf])  # P(y)\n",
    "                for i in range(len(x)):  \n",
    "                    sınıf_olasilik += np.log(self._gaussian_olasılık(x[i], \n",
    "                                                self.ortalama[sınıf][i], \n",
    "                                                self.standart_sapma[sınıf][i]))\n",
    "                olasılıklar[sınıf] = sınıf_olasilik\n",
    "            tahminler.append(max(olasılıklar, key=olasılıklar.get))  # En büyük olasılığa sahip sınıf\n",
    "        return np.array(tahminler)\n",
    "\n",
    "# Veri kümesini oku\n",
    "df = pd.read_csv(\"data.csv\")\n",
    "\n",
    "# Veri hazırlama\n",
    "X = df.drop(['liked'], axis=1).values  # Özellikler\n",
    "y = df['liked'].values  # Hedef değişken\n",
    "\n",
    "# Eğitim ve test veri seti\n",
    "from sklearn.model_selection import train_test_split\n",
    "X_train, X_test, y_train, y_test = train_test_split(X, y, test_size=0.2, random_state=42)\n",
    "\n",
    "# Modeli eğit\n",
    "model = MyGaussianNB()\n",
    "model.fit(X_train, y_train)\n",
    "\n",
    "# Test verisinde tahmin yap\n",
    "y_pred = model.predict(X_test)\n",
    "\n",
    "# Model performansını değerlendirme\n",
    "from sklearn.metrics import accuracy_score, confusion_matrix, classification_report\n",
    "print(f\"Model Doğruluk Oranı: {accuracy_score(y_test, y_pred):.4f}\")\n",
    "print(\"\\nConfusion Matrix:\\n\", confusion_matrix(y_test, y_pred))\n",
    "print(\"\\nClassification Report:\\n\", classification_report(y_test, y_pred))\n"
   ]
  },
  {
   "cell_type": "code",
   "execution_count": null,
   "id": "19db1b54-775f-4c5c-b0aa-b7b3e3b9429f",
   "metadata": {},
   "outputs": [],
   "source": []
  }
 ],
 "metadata": {
  "kernelspec": {
   "display_name": "Python 3 (ipykernel)",
   "language": "python",
   "name": "python3"
  },
  "language_info": {
   "codemirror_mode": {
    "name": "ipython",
    "version": 3
   },
   "file_extension": ".py",
   "mimetype": "text/x-python",
   "name": "python",
   "nbconvert_exporter": "python",
   "pygments_lexer": "ipython3",
   "version": "3.13.2"
  }
 },
 "nbformat": 4,
 "nbformat_minor": 5
}
