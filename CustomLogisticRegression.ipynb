{
 "cells": [
  {
   "cell_type": "code",
   "execution_count": 1,
   "id": "0b3f3feb-118f-421c-86de-fc5ebb23496c",
   "metadata": {},
   "outputs": [],
   "source": [
    "import pandas as pd\n",
    "import numpy as np\n",
    "import matplotlib.pyplot as plt\n",
    "import time\n",
    "from sklearn.model_selection import train_test_split\n",
    "from sklearn.preprocessing import StandardScaler #Veriyi 0 ve 1 arasına sıkıştırmak için\n",
    "from sklearn.linear_model import LogisticRegression\n",
    "from sklearn.metrics import confusion_matrix, accuracy_score\n",
    "file_path = ('BankNoteAuthentication.csv')\n",
    "data = pd.read_csv(file_path)"
   ]
  },
  {
   "cell_type": "code",
   "execution_count": 2,
   "id": "02c8b72b-3dee-4af1-b029-49e4674f7a6b",
   "metadata": {},
   "outputs": [
    {
     "data": {
      "text/html": [
       "<div>\n",
       "<style scoped>\n",
       "    .dataframe tbody tr th:only-of-type {\n",
       "        vertical-align: middle;\n",
       "    }\n",
       "\n",
       "    .dataframe tbody tr th {\n",
       "        vertical-align: top;\n",
       "    }\n",
       "\n",
       "    .dataframe thead th {\n",
       "        text-align: right;\n",
       "    }\n",
       "</style>\n",
       "<table border=\"1\" class=\"dataframe\">\n",
       "  <thead>\n",
       "    <tr style=\"text-align: right;\">\n",
       "      <th></th>\n",
       "      <th>variance</th>\n",
       "      <th>skewness</th>\n",
       "      <th>curtosis</th>\n",
       "      <th>entropy</th>\n",
       "      <th>class</th>\n",
       "    </tr>\n",
       "  </thead>\n",
       "  <tbody>\n",
       "    <tr>\n",
       "      <th>0</th>\n",
       "      <td>3.62160</td>\n",
       "      <td>8.6661</td>\n",
       "      <td>-2.8073</td>\n",
       "      <td>-0.44699</td>\n",
       "      <td>0</td>\n",
       "    </tr>\n",
       "    <tr>\n",
       "      <th>1</th>\n",
       "      <td>4.54590</td>\n",
       "      <td>8.1674</td>\n",
       "      <td>-2.4586</td>\n",
       "      <td>-1.46210</td>\n",
       "      <td>0</td>\n",
       "    </tr>\n",
       "    <tr>\n",
       "      <th>2</th>\n",
       "      <td>3.86600</td>\n",
       "      <td>-2.6383</td>\n",
       "      <td>1.9242</td>\n",
       "      <td>0.10645</td>\n",
       "      <td>0</td>\n",
       "    </tr>\n",
       "    <tr>\n",
       "      <th>3</th>\n",
       "      <td>3.45660</td>\n",
       "      <td>9.5228</td>\n",
       "      <td>-4.0112</td>\n",
       "      <td>-3.59440</td>\n",
       "      <td>0</td>\n",
       "    </tr>\n",
       "    <tr>\n",
       "      <th>4</th>\n",
       "      <td>0.32924</td>\n",
       "      <td>-4.4552</td>\n",
       "      <td>4.5718</td>\n",
       "      <td>-0.98880</td>\n",
       "      <td>0</td>\n",
       "    </tr>\n",
       "  </tbody>\n",
       "</table>\n",
       "</div>"
      ],
      "text/plain": [
       "   variance  skewness  curtosis  entropy  class\n",
       "0   3.62160    8.6661   -2.8073 -0.44699      0\n",
       "1   4.54590    8.1674   -2.4586 -1.46210      0\n",
       "2   3.86600   -2.6383    1.9242  0.10645      0\n",
       "3   3.45660    9.5228   -4.0112 -3.59440      0\n",
       "4   0.32924   -4.4552    4.5718 -0.98880      0"
      ]
     },
     "execution_count": 2,
     "metadata": {},
     "output_type": "execute_result"
    }
   ],
   "source": [
    "data.head()"
   ]
  },
  {
   "cell_type": "code",
   "execution_count": 3,
   "id": "bf47828a-58cb-432d-909a-dd976673af39",
   "metadata": {},
   "outputs": [
    {
     "name": "stdout",
     "output_type": "stream",
     "text": [
      "Manual Logistic Regression Accuracy: 0.8550\n",
      "Eğitim süresi: 0.0692 saniye\n",
      "Tahmin süresi: 0.0001 saniye\n",
      "Confusion Matrix (Manual):\n",
      "[[86  7]\n",
      " [22 85]]\n"
     ]
    }
   ],
   "source": [
    "from sklearn.model_selection import train_test_split\n",
    "from sklearn.preprocessing import StandardScaler\n",
    "from sklearn.datasets import make_classification\n",
    "import numpy as np\n",
    "import time\n",
    "from sklearn.metrics import accuracy_score, confusion_matrix\n",
    "\n",
    "# Create a synthetic dataset (for example purposes)\n",
    "X, y = make_classification(n_samples=1000, n_features=20, random_state=42)\n",
    "\n",
    "# Split the dataset into training and test sets\n",
    "X_train, X_test, y_train, y_test = train_test_split(X, y, test_size=0.2, random_state=42)\n",
    "\n",
    "# Scale the data (important for gradient descent)\n",
    "scaler = StandardScaler()\n",
    "X_train_scaled = scaler.fit_transform(X_train)\n",
    "X_test_scaled = scaler.transform(X_test)\n",
    "\n",
    "# LogisticRegressionGD Class as you defined\n",
    "class LogisticRegressionGD:\n",
    "    def __init__(self, learning_rate=0.01, epochs=1000):\n",
    "        self.learning_rate = learning_rate\n",
    "        self.epochs = epochs\n",
    "        self.theta = None  # Model katsayıları (weights)\n",
    "\n",
    "    def sigmoid(self, z):\n",
    "        return 1 / (1 + np.exp(-z))\n",
    "\n",
    "    def fit(self, X, y):\n",
    "        m, n = X.shape\n",
    "        self.theta = np.zeros(n)  # Tüm ağırlıkları sıfır başlat\n",
    "\n",
    "        for _ in range(self.epochs):\n",
    "            z = np.dot(X, self.theta)  # Lineer model\n",
    "            predictions = self.sigmoid(z)  # Sigmoid fonksiyonu uygula\n",
    "            gradient = np.dot(X.T, (predictions - y)) / m  # Gradyan hesapla\n",
    "            self.theta -= self.learning_rate * gradient  # Güncelle\n",
    "\n",
    "    def predict(self, X):\n",
    "        probabilities = self.sigmoid(np.dot(X, self.theta))\n",
    "        return [1 if p >= 0.5 else 0 for p in probabilities]\n",
    "\n",
    "# Modeli eğit\n",
    "log_reg_gd = LogisticRegressionGD(learning_rate=0.1, epochs=5000)\n",
    "start_time = time.time()\n",
    "log_reg_gd.fit(X_train_scaled, y_train)\n",
    "train_time_manual = time.time() - start_time\n",
    "\n",
    "# Tahmin yap\n",
    "start_time = time.time()\n",
    "y_pred_manual = log_reg_gd.predict(X_test_scaled)\n",
    "predict_time_manual = time.time() - start_time\n",
    "\n",
    "# Performans değerlendirmesi\n",
    "accuracy_manual = accuracy_score(y_test, y_pred_manual)\n",
    "conf_matrix_manual = confusion_matrix(y_test, y_pred_manual)\n",
    "\n",
    "print(f\"Manual Logistic Regression Accuracy: {accuracy_manual:.4f}\")\n",
    "print(f\"Eğitim süresi: {train_time_manual:.4f} saniye\")\n",
    "print(f\"Tahmin süresi: {predict_time_manual:.4f} saniye\")\n",
    "print(\"Confusion Matrix (Manual):\")\n",
    "print(conf_matrix_manual)\n"
   ]
  },
  {
   "cell_type": "code",
   "execution_count": 4,
   "id": "c6891f2a-0fbd-45e6-b0e8-0a967008f3c9",
   "metadata": {},
   "outputs": [
    {
     "data": {
      "image/png": "[encoded data removed]",
      "text/plain": [
       "<Figure size 600x500 with 1 Axes>"
      ]
     },
     "metadata": {},
     "output_type": "display_data"
    }
   ],
   "source": [
    "import seaborn as sns\n",
    "import matplotlib.pyplot as plt\n",
    "from sklearn.metrics import confusion_matrix\n",
    "\n",
    "conf_matrix_manual = confusion_matrix(y_test, y_pred_manual)\n",
    "\n",
    "plt.figure(figsize=(6, 5))\n",
    "sns.heatmap(conf_matrix_manual, annot=True, fmt=\"d\", cmap=\"Blues\", cbar=False,\n",
    "            xticklabels=[\"Predicted 0\", \"Predicted 1\"], yticklabels=[\"Actual 0\", \"Actual 1\"])\n",
    "plt.xlabel(\"Predicted\")\n",
    "plt.ylabel(\"Actual\")\n",
    "plt.title(\"Confusion Matrix\")\n",
    "\n",
    "# Show the plot\n",
    "plt.show()\n"
   ]
  },
  {
   "cell_type": "code",
   "execution_count": 5,
   "id": "90c4910b-e73a-417a-8918-27ee3fb5ce15",
   "metadata": {},
   "outputs": [
    {
     "name": "stdout",
     "output_type": "stream",
     "text": [
      "Manual Model Performansı:\n",
      "Precision: 0.9239\n",
      "Recall: 0.7944\n",
      "F1-Score: 0.8543\n"
     ]
    }
   ],
   "source": [
    "from sklearn.metrics import precision_score, recall_score, f1_score\n",
    "\n",
    "precision_manual = precision_score(y_test, y_pred_manual)\n",
    "recall_manual = recall_score(y_test, y_pred_manual)\n",
    "f1_manual = f1_score(y_test, y_pred_manual)\n",
    "\n",
    "print(\"Manual Model Performansı:\")\n",
    "print(f\"Precision: {precision_manual:.4f}\")\n",
    "print(f\"Recall: {recall_manual:.4f}\")\n",
    "print(f\"F1-Score: {f1_manual:.4f}\")"
   ]
  },
  {
   "cell_type": "code",
   "execution_count": null,
   "id": "c1acd55a-647f-49bd-be03-21dbcab55ddf",
   "metadata": {},
   "outputs": [],
   "source": []
  }
 ],
 "metadata": {
  "kernelspec": {
   "display_name": "Python 3 (ipykernel)",
   "language": "python",
   "name": "python3"
  },
  "language_info": {
   "codemirror_mode": {
    "name": "ipython",
    "version": 3
   },
   "file_extension": ".py",
   "mimetype": "text/x-python",
   "name": "python",
   "nbconvert_exporter": "python",
   "pygments_lexer": "ipython3",
   "version": "3.13.2"
  }
 },
 "nbformat": 4,
 "nbformat_minor": 5
}
